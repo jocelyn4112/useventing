{
 "cells": [
  {
   "cell_type": "code",
   "execution_count": 1,
   "metadata": {},
   "outputs": [],
   "source": [
    "#from Jon \n",
    "\n",
    "import pandas as pd\n",
    "from bs4 import BeautifulSoup\n",
    "\n"
   ]
  },
  {
   "cell_type": "code",
   "execution_count": 2,
   "metadata": {},
   "outputs": [],
   "source": [
    "# Read in the raw HTML file and load it into BeautifulSoup\n",
    "with open('yourfile.html') as inf:\n",
    "    soup = BeautifulSoup(inf.read(), 'html.parser')\n"
   ]
  },
  {
   "cell_type": "code",
   "execution_count": 3,
   "metadata": {},
   "outputs": [],
   "source": [
    "\n",
    "# Dump out the HTML in an easier to read format\n",
    "#print(soup.prettify())"
   ]
  },
  {
   "cell_type": "code",
   "execution_count": 4,
   "metadata": {},
   "outputs": [],
   "source": [
    "# Find all results tables. Each table is wrapped by a div with class \"brd-div\"\n",
    "# so we can find all those divs and then access the child table within each div\n",
    "for div in soup.find_all('div', class_=\"brd-div\"):\n",
    "    table = div.find_next('table')\n",
    "    # Now we have the table:\n",
    "    # - the first row is the name of the trial\n",
    "    # - the 2nd row is the \"Last updated\" row\n",
    "    # - the 3rd row is the column headers\n",
    "    # - all remaining rows are the data\n",
    "\n",
    "   "
   ]
  },
  {
   "cell_type": "code",
   "execution_count": null,
   "metadata": {},
   "outputs": [],
   "source": [
    " # Get the first row\n",
    "    trial_row = table.find_next('tr')\n",
    "    # Find the a tag and retrieve the inner text - this is the trial name string\n",
    "    trial = trial_row.find_next('a').contents[0]\n",
    "\n",
    "   "
   ]
  },
  {
   "cell_type": "code",
   "execution_count": null,
   "metadata": {},
   "outputs": [],
   "source": [
    " # Get the next row (row 2)\n",
    "    last_updated_row = trial_row.next_sibling\n",
    "    # If you want the last updated time, pull it out here\n",
    "\n",
    "    "
   ]
  },
  {
   "cell_type": "code",
   "execution_count": null,
   "metadata": {},
   "outputs": [],
   "source": [
    "# Get the next row (row 3)\n",
    "    col_header_row = last_updated_row.next_sibling\n",
    "    # Iterate through the columns (td elements) in the row to extract the\n",
    "    # column headers\n",
    "    col_headers = []\n",
    "    for td in col_header_row.find_all('td'):\n",
    "        # The td elements we want have an inner div element with a class value\n",
    "        # of gwt-HTML, the contents of that div are the label we want and the\n",
    "        # label is split across two lines except the Rider/Horse column which\n",
    "        # we need to treat as 2 separate columns\n",
    "        if len(td.contents) == 3:\n",
    "            # This is the Rider/Horse td\n",
    "            col_headers.append(td.contents[0])\n",
    "            col_headers.append(td.contents[2])\n",
    "        else:\n",
    "            inner_div = td.find('div', class_='gwt-HTML')\n",
    "            if inner_div:\n",
    "                label = inner_div.contents[0] + \" \" + inner_div.contents[2]\n",
    "                if label == 'Rider Horse':\n",
    "                    col_headers += label.split(' ')\n",
    "                else:\n",
    "                    col_headers.append(label)\n",
    "\n",
    "  "
   ]
  },
  {
   "cell_type": "code",
   "execution_count": null,
   "metadata": {},
   "outputs": [],
   "source": [
    "  # Now iterate over the remaining rows in the table which contain the data\n",
    "    # Every row contains a div with class gwt-HTML like the header row except\n",
    "    # the Rider/Horse column which has 2 values separated by a <br/> tag\n",
    "    data_rows = []\n",
    "    for row in col_header_row.next_siblings:\n",
    "        data_row = []\n",
    "        for td in row.find_all('td'):\n",
    "            if len(td.contents) == 3:\n",
    "                # This is the Rider/Horse td\n",
    "                data_row.append(td.contents[0])\n",
    "                # The Horse name is wrapped in <i> tags so we get the contents\n",
    "                # of that inner tag\n",
    "                data_row.append(td.contents[2].contents[0])\n",
    "            else:\n",
    "                inner_div = td.find('div', class_='gwt-HTML')\n",
    "                if inner_div:\n",
    "                    # The content of this div is the data value\n",
    "                    data_row.append(inner_div.contents[0])\n",
    "        data_rows.append(data_row)\n",
    "    df = pd.DataFrame.from_records(data_rows, columns=col_headers)\n",
    "    print(df)"
   ]
  }
 ],
 "metadata": {
  "kernelspec": {
   "display_name": "Python [conda env:.conda-PythonData] *",
   "language": "python",
   "name": "conda-env-.conda-PythonData-py"
  },
  "language_info": {
   "codemirror_mode": {
    "name": "ipython",
    "version": 3
   },
   "file_extension": ".py",
   "mimetype": "text/x-python",
   "name": "python",
   "nbconvert_exporter": "python",
   "pygments_lexer": "ipython3",
   "version": "3.6.10"
  }
 },
 "nbformat": 4,
 "nbformat_minor": 4
}
