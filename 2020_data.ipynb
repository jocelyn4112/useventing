{
 "cells": [
  {
   "cell_type": "code",
   "execution_count": 2,
   "metadata": {},
   "outputs": [],
   "source": [
    "import pandas as pd\n",
    "import csv\n",
    "import os\n",
    "\n",
    "#standard library\n",
    "from collections import namedtuple\n",
    "import os\n",
    "\n",
    "# pydata\n",
    "import pandas as pd\n",
    "import matplotlib.pyplot as plt\n",
    "import seaborn as sns\n",
    "%matplotlib inline\n",
    "\n",
    "# bson-numpy libraries\n",
    "import numpy as np\n",
    "from bson import CodecOptions\n",
    "from bson.raw_bson import RawBSONDocument\n",
    "from pymongo import MongoClient\n",
    "#import bsonnumpy\n",
    "\n",
    "# other libraries\n",
    "#import maya\n"
   ]
  },
  {
   "cell_type": "code",
   "execution_count": 3,
   "metadata": {},
   "outputs": [
    {
     "data": {
      "text/html": [
       "<div>\n",
       "<style scoped>\n",
       "    .dataframe tbody tr th:only-of-type {\n",
       "        vertical-align: middle;\n",
       "    }\n",
       "\n",
       "    .dataframe tbody tr th {\n",
       "        vertical-align: top;\n",
       "    }\n",
       "\n",
       "    .dataframe thead th {\n",
       "        text-align: right;\n",
       "    }\n",
       "</style>\n",
       "<table border=\"1\" class=\"dataframe\">\n",
       "  <thead>\n",
       "    <tr style=\"text-align: right;\">\n",
       "      <th></th>\n",
       "      <th>Division</th>\n",
       "      <th>Event</th>\n",
       "      <th>Rider</th>\n",
       "      <th>Horse</th>\n",
       "      <th>Dress Score</th>\n",
       "      <th>Dress Place</th>\n",
       "      <th>Stad Jump</th>\n",
       "      <th>Stad Time</th>\n",
       "      <th>To Date Score</th>\n",
       "      <th>To Date Place</th>\n",
       "      <th>XC Jump</th>\n",
       "      <th>XC Elapsed</th>\n",
       "      <th>XC Time</th>\n",
       "      <th>Final Score</th>\n",
       "      <th>Final Place</th>\n",
       "    </tr>\n",
       "  </thead>\n",
       "  <tbody>\n",
       "    <tr>\n",
       "      <th>0</th>\n",
       "      <td>Introductory-A</td>\n",
       "      <td>Full Moon Farms H.T.(Nov 2020)</td>\n",
       "      <td>Aylah Dhruv</td>\n",
       "      <td>Sig</td>\n",
       "      <td>37.00</td>\n",
       "      <td>7</td>\n",
       "      <td>0.00</td>\n",
       "      <td>0.00</td>\n",
       "      <td>37.00</td>\n",
       "      <td>5</td>\n",
       "      <td>0.00</td>\n",
       "      <td>4:54</td>\n",
       "      <td>0.00</td>\n",
       "      <td>37.00</td>\n",
       "      <td>1</td>\n",
       "    </tr>\n",
       "    <tr>\n",
       "      <th>1</th>\n",
       "      <td>Introductory-A</td>\n",
       "      <td>Full Moon Farms H.T.(Nov 2020)</td>\n",
       "      <td>Christine  Hryzak</td>\n",
       "      <td>FMF SOL</td>\n",
       "      <td>34.30</td>\n",
       "      <td>4-T</td>\n",
       "      <td>4.00</td>\n",
       "      <td>0.00</td>\n",
       "      <td>38.30</td>\n",
       "      <td>7</td>\n",
       "      <td>0.00</td>\n",
       "      <td>4:56</td>\n",
       "      <td>0.00</td>\n",
       "      <td>38.30</td>\n",
       "      <td>2</td>\n",
       "    </tr>\n",
       "    <tr>\n",
       "      <th>2</th>\n",
       "      <td>Introductory-A</td>\n",
       "      <td>Full Moon Farms H.T.(Nov 2020)</td>\n",
       "      <td>F. Mooregan Hankins</td>\n",
       "      <td>Ringwood Cheddar</td>\n",
       "      <td>37.80</td>\n",
       "      <td>8</td>\n",
       "      <td>0.00</td>\n",
       "      <td>7.60</td>\n",
       "      <td>45.40</td>\n",
       "      <td>9</td>\n",
       "      <td>0.00</td>\n",
       "      <td>5:12</td>\n",
       "      <td>0.00</td>\n",
       "      <td>45.40</td>\n",
       "      <td>3</td>\n",
       "    </tr>\n",
       "    <tr>\n",
       "      <th>3</th>\n",
       "      <td>Introductory-A</td>\n",
       "      <td>Full Moon Farms H.T.(Nov 2020)</td>\n",
       "      <td>Jodie Potts</td>\n",
       "      <td>Cat's Confetti</td>\n",
       "      <td>35.80</td>\n",
       "      <td>6</td>\n",
       "      <td>0.00</td>\n",
       "      <td>0.00</td>\n",
       "      <td>35.80</td>\n",
       "      <td>4</td>\n",
       "      <td>0.00</td>\n",
       "      <td>4:14</td>\n",
       "      <td>10.40</td>\n",
       "      <td>46.20</td>\n",
       "      <td>4</td>\n",
       "    </tr>\n",
       "    <tr>\n",
       "      <th>4</th>\n",
       "      <td>Introductory-A</td>\n",
       "      <td>Full Moon Farms H.T.(Nov 2020)</td>\n",
       "      <td>Amanda Michael</td>\n",
       "      <td>Cash Bonanza</td>\n",
       "      <td>34.00</td>\n",
       "      <td>2-T</td>\n",
       "      <td>0.00</td>\n",
       "      <td>0.00</td>\n",
       "      <td>34.00</td>\n",
       "      <td>2</td>\n",
       "      <td>0.00</td>\n",
       "      <td>3:50</td>\n",
       "      <td>20.00</td>\n",
       "      <td>54.00</td>\n",
       "      <td>5</td>\n",
       "    </tr>\n",
       "  </tbody>\n",
       "</table>\n",
       "</div>"
      ],
      "text/plain": [
       "         Division                           Event                Rider  \\\n",
       "0  Introductory-A  Full Moon Farms H.T.(Nov 2020)          Aylah Dhruv   \n",
       "1  Introductory-A  Full Moon Farms H.T.(Nov 2020)    Christine  Hryzak   \n",
       "2  Introductory-A  Full Moon Farms H.T.(Nov 2020)  F. Mooregan Hankins   \n",
       "3  Introductory-A  Full Moon Farms H.T.(Nov 2020)          Jodie Potts   \n",
       "4  Introductory-A  Full Moon Farms H.T.(Nov 2020)       Amanda Michael   \n",
       "\n",
       "              Horse Dress Score Dress Place Stad Jump Stad Time To Date Score  \\\n",
       "0               Sig       37.00           7      0.00      0.00         37.00   \n",
       "1           FMF SOL       34.30         4-T      4.00      0.00         38.30   \n",
       "2  Ringwood Cheddar       37.80           8      0.00      7.60         45.40   \n",
       "3    Cat's Confetti       35.80           6      0.00      0.00         35.80   \n",
       "4      Cash Bonanza       34.00         2-T      0.00      0.00         34.00   \n",
       "\n",
       "  To Date Place XC Jump XC Elapsed XC Time Final Score Final Place  \n",
       "0             5    0.00       4:54    0.00       37.00           1  \n",
       "1             7    0.00       4:56    0.00       38.30           2  \n",
       "2             9    0.00       5:12    0.00       45.40           3  \n",
       "3             4    0.00       4:14   10.40       46.20           4  \n",
       "4             2    0.00       3:50   20.00       54.00           5  "
      ]
     },
     "execution_count": 3,
     "metadata": {},
     "output_type": "execute_result"
    }
   ],
   "source": [
    "\n",
    "#Read in eventing csv\n",
    "resultsdata = pd.read_csv('eedata.csv') \n",
    "resultsdata.head()"
   ]
  },
  {
   "cell_type": "code",
   "execution_count": 4,
   "metadata": {},
   "outputs": [
    {
     "data": {
      "text/plain": [
       "Division         59902\n",
       "Event            59921\n",
       "Rider            59921\n",
       "Horse            59921\n",
       "Dress Score      59921\n",
       "Dress Place      59921\n",
       "Stad Jump        59921\n",
       "Stad Time        59921\n",
       "To Date Score    59921\n",
       "To Date Place    59921\n",
       "XC Jump          59921\n",
       "XC Elapsed       59921\n",
       "XC Time          59921\n",
       "Final Score      59918\n",
       "Final Place      59918\n",
       "dtype: int64"
      ]
     },
     "execution_count": 4,
     "metadata": {},
     "output_type": "execute_result"
    }
   ],
   "source": [
    "resultsdata.count()\n"
   ]
  },
  {
   "cell_type": "code",
   "execution_count": 5,
   "metadata": {},
   "outputs": [],
   "source": [
    "#Get Mongo \n",
    "# get mongodb params from environment\n",
    "mlab_uri = os.getenv('MLAB_URI')\n",
    "mlab_collection = os.getenv('MLAB_COLLECTION')\n"
   ]
  },
  {
   "cell_type": "code",
   "execution_count": 19,
   "metadata": {},
   "outputs": [
    {
     "data": {
      "text/plain": [
       "array(['Introductory-A', 'Introductory-B', 'Open Starter', ...,\n",
       "       'Preliminary Combined Test A', 'Preliminary Combined Test B',\n",
       "       'Preliminary/Training 3-Phase'], dtype=object)"
      ]
     },
     "execution_count": 19,
     "metadata": {},
     "output_type": "execute_result"
    }
   ],
   "source": [
    "resultsdata.Division.unique()"
   ]
  },
  {
   "cell_type": "code",
   "execution_count": 17,
   "metadata": {},
   "outputs": [
    {
     "ename": "SyntaxError",
     "evalue": "invalid syntax (<ipython-input-17-9866bd80fcf3>, line 4)",
     "output_type": "error",
     "traceback": [
      "\u001b[1;36m  File \u001b[1;32m\"<ipython-input-17-9866bd80fcf3>\"\u001b[1;36m, line \u001b[1;32m4\u001b[0m\n\u001b[1;33m    resultsdata_novice.head()\u001b[0m\n\u001b[1;37m    ^\u001b[0m\n\u001b[1;31mSyntaxError\u001b[0m\u001b[1;31m:\u001b[0m invalid syntax\n"
     ]
    }
   ],
   "source": [
    "#sort data to only show division\n",
    "\n",
    "resultsdata_novice = resultsdata[resultsdata.Division.eq[(\"Novice\")]\n",
    "resultsdata_novice.head()"
   ]
  },
  {
   "cell_type": "code",
   "execution_count": 39,
   "metadata": {},
   "outputs": [
    {
     "data": {
      "text/plain": [
       "Open Preliminary                        2081\n",
       "Open Training                           1808\n",
       "Open Novice                             1705\n",
       "Open Beginner Novice                    1702\n",
       "Preliminary Rider                       1328\n",
       "                                        ... \n",
       "Extra XC round                             1\n",
       "Dressage Test of Choice Training Sat       1\n",
       "Show Jumping 3'11\"                         1\n",
       "Dressage Beg Nov B                         1\n",
       "USDF Dressage test                         1\n",
       "Name: Division, Length: 1408, dtype: int64"
      ]
     },
     "execution_count": 39,
     "metadata": {},
     "output_type": "execute_result"
    }
   ],
   "source": [
    "\n",
    "#find total count of each division\n",
    "divisions_df = resultsdata['Division'].value_counts()\n",
    "divisions_df"
   ]
  },
  {
   "cell_type": "code",
   "execution_count": 41,
   "metadata": {},
   "outputs": [
    {
     "ename": "AttributeError",
     "evalue": "'int' object has no attribute 'head'",
     "output_type": "error",
     "traceback": [
      "\u001b[1;31m---------------------------------------------------------------------------\u001b[0m",
      "\u001b[1;31mAttributeError\u001b[0m                            Traceback (most recent call last)",
      "\u001b[1;32m<ipython-input-41-f001f5098801>\u001b[0m in \u001b[0;36m<module>\u001b[1;34m\u001b[0m\n\u001b[0;32m      1\u001b[0m \u001b[1;31m#Un Items\u001b[0m\u001b[1;33m\u001b[0m\u001b[1;33m\u001b[0m\u001b[1;33m\u001b[0m\u001b[0m\n\u001b[0;32m      2\u001b[0m \u001b[0mdivision_list\u001b[0m \u001b[1;33m=\u001b[0m \u001b[0mlen\u001b[0m\u001b[1;33m(\u001b[0m\u001b[0mdivisions_df\u001b[0m\u001b[1;33m.\u001b[0m\u001b[0munique\u001b[0m\u001b[1;33m(\u001b[0m\u001b[1;33m)\u001b[0m\u001b[1;33m)\u001b[0m\u001b[1;33m\u001b[0m\u001b[1;33m\u001b[0m\u001b[0m\n\u001b[1;32m----> 3\u001b[1;33m \u001b[0mdivision_list\u001b[0m\u001b[1;33m.\u001b[0m\u001b[0mhead\u001b[0m\u001b[1;33m(\u001b[0m\u001b[1;33m)\u001b[0m\u001b[1;33m\u001b[0m\u001b[1;33m\u001b[0m\u001b[0m\n\u001b[0m",
      "\u001b[1;31mAttributeError\u001b[0m: 'int' object has no attribute 'head'"
     ]
    }
   ],
   "source": [
    "#Un Items\n",
    "division_list = len(divisions_df.unique())\n"
   ]
  },
  {
   "cell_type": "code",
   "execution_count": 47,
   "metadata": {},
   "outputs": [
    {
     "data": {
      "text/plain": [
       "1409"
      ]
     },
     "execution_count": 47,
     "metadata": {},
     "output_type": "execute_result"
    }
   ],
   "source": [
    "#  Number of Indidual Divisions\n",
    "div_stats = len(resultsdata[\"Division\"].unique())\n",
    "div_stats\n",
    "#Avg Price\n",
    "# Avg_Price = purchase_df['Price'].mean()\n",
    "# #Total Numberof purchases\n",
    "# Num_Purchases = len(purchase_df['Purchase ID'])\n",
    "# #Total Revenue\n",
    "# Total_Revenue = sum(purchase_df['Price'])\n",
    "\n",
    "# purchasing_analysis_df = pd.DataFrame({\"Number of Unique Items\":[unique_items],\n",
    "#                             \"Average Purchase Price\":[Avg_Price],\n",
    "#                             \"Total Number of Purchases\":[Num_Purchases],\n",
    "#                            \"Total Revenue\": [Total_Revenue]\n",
    "#                                       })\n",
    "# purchasing_analysis_df[\"Average Purchase Price\"] = purchasing_analysis_df[\"Average Purchase Price\"].map(\"${:.2f}\".format)\n",
    "# purchasing_analysis_df[\"Total Revenue\"] = purchasing_analysis_df[\"Total Revenue\"].map(\"${:.2f}\".format)\n",
    "# purchasing_analysis_df"
   ]
  },
  {
   "cell_type": "code",
   "execution_count": null,
   "metadata": {},
   "outputs": [],
   "source": [
    "Group by Shape, then year, and find a count \n",
    "\n",
    "year_group_df = smaller_data.groupby(['Shape_2', 'Year'])\n",
    "year_group_df\n",
    "\n",
    "count_year_df = year_group_df.count()\n",
    "count_year_df"
   ]
  }
 ],
 "metadata": {
  "kernelspec": {
   "display_name": "Python 3",
   "language": "python",
   "name": "python3"
  },
  "language_info": {
   "codemirror_mode": {
    "name": "ipython",
    "version": 3
   },
   "file_extension": ".py",
   "mimetype": "text/x-python",
   "name": "python",
   "nbconvert_exporter": "python",
   "pygments_lexer": "ipython3",
   "version": "3.8.3"
  }
 },
 "nbformat": 4,
 "nbformat_minor": 4
}
