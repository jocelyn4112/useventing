{
 "cells": [
  {
   "cell_type": "code",
   "execution_count": 3,
   "metadata": {},
   "outputs": [],
   "source": [
    "from scipy.stats import ttest_ind\n",
    "import pandas as pd"
   ]
  },
  {
   "cell_type": "code",
   "execution_count": 25,
   "metadata": {},
   "outputs": [
    {
     "data": {
      "text/plain": [
       "Index(['Unnamed: 0', 'Division', 'Event', 'Rider', 'Horse', 'Dress Score',\n",
       "       'Dress Place', 'Stad Jump', 'Stad Time', 'To Date Score',\n",
       "       'To Date Place', 'XC Jump', 'XC Elapsed', 'XC Time', 'Final Score',\n",
       "       'Final Place', 'Difficulty', 'Junior', 'Senior', 'CT', 'Rider_x',\n",
       "       'Fall', 'Horse_x', 'Lon', 'Lat', 'temp-end', 'precip-end', 'wspd-end',\n",
       "       'visibility-end', 'cloudcover-end', 'wgust-end', 'moonphase-end',\n",
       "       'Precip_Prior_3_Day', 'Precip_Prior_5_Day', 'Precip_Prior_7_Day'],\n",
       "      dtype='object')"
      ]
     },
     "execution_count": 25,
     "metadata": {},
     "output_type": "execute_result"
    }
   ],
   "source": [
    "df1=pd.read_csv(\"final_df_v5.csv\", na_values =['NaN'])\n",
    "df1.columns"
   ]
  },
  {
   "cell_type": "code",
   "execution_count": 9,
   "metadata": {},
   "outputs": [],
   "source": [
    "cat1 = df1[df1['Junior']==0]\n",
    "cat2 = df1[df1['Junior']==1]"
   ]
  },
  {
   "cell_type": "code",
   "execution_count": 11,
   "metadata": {},
   "outputs": [
    {
     "data": {
      "text/plain": [
       "Ttest_indResult(statistic=-4.553343485733963, pvalue=5.2912487716738836e-06)"
      ]
     },
     "execution_count": 11,
     "metadata": {},
     "output_type": "execute_result"
    }
   ],
   "source": [
    "ttest_ind(cat1['Fall'], cat2['Fall'])"
   ]
  },
  {
   "cell_type": "code",
   "execution_count": 12,
   "metadata": {},
   "outputs": [],
   "source": [
    "cat1 = df1[df1['Senior']==0]\n",
    "cat2 = df1[df1['Senior']==1]"
   ]
  },
  {
   "cell_type": "code",
   "execution_count": 13,
   "metadata": {},
   "outputs": [
    {
     "data": {
      "text/plain": [
       "Ttest_indResult(statistic=-5.114336628552598, pvalue=3.158950250166298e-07)"
      ]
     },
     "execution_count": 13,
     "metadata": {},
     "output_type": "execute_result"
    }
   ],
   "source": [
    "ttest_ind(cat1['Fall'], cat2['Fall'])"
   ]
  },
  {
   "cell_type": "code",
   "execution_count": null,
   "metadata": {},
   "outputs": [],
   "source": [
    "cat1 = df1[df1['CT']==0]\n",
    "cat2 = df1[df1['CT']==1]"
   ]
  },
  {
   "cell_type": "code",
   "execution_count": 14,
   "metadata": {},
   "outputs": [
    {
     "data": {
      "text/plain": [
       "Ttest_indResult(statistic=-5.114336628552598, pvalue=3.158950250166298e-07)"
      ]
     },
     "execution_count": 14,
     "metadata": {},
     "output_type": "execute_result"
    }
   ],
   "source": [
    "ttest_ind(cat1['Fall'], cat2['Fall'])"
   ]
  },
  {
   "cell_type": "code",
   "execution_count": 23,
   "metadata": {},
   "outputs": [],
   "source": [
    "cat1 = df1[df1['Precip_Prior_3_Day']>0]\n",
    "cat2 = df1[df1['Precip_Prior_3_Day']==0]"
   ]
  },
  {
   "cell_type": "code",
   "execution_count": 24,
   "metadata": {},
   "outputs": [
    {
     "data": {
      "text/plain": [
       "Ttest_indResult(statistic=2.254855523712468, pvalue=0.024150618580377738)"
      ]
     },
     "execution_count": 24,
     "metadata": {},
     "output_type": "execute_result"
    }
   ],
   "source": [
    "ttest_ind(cat1['Fall'], cat2['Fall'])"
   ]
  },
  {
   "cell_type": "code",
   "execution_count": 21,
   "metadata": {},
   "outputs": [],
   "source": [
    "cat1 = df1[df1['precip-end']>0]\n",
    "cat2 = df1[df1['precip-end']==0]"
   ]
  },
  {
   "cell_type": "code",
   "execution_count": 22,
   "metadata": {},
   "outputs": [
    {
     "data": {
      "text/plain": [
       "Ttest_indResult(statistic=1.0468506957545327, pvalue=0.2951781015808741)"
      ]
     },
     "execution_count": 22,
     "metadata": {},
     "output_type": "execute_result"
    }
   ],
   "source": [
    "ttest_ind(cat1['Fall'], cat2['Fall'])"
   ]
  },
  {
   "cell_type": "code",
   "execution_count": 26,
   "metadata": {},
   "outputs": [
    {
     "data": {
      "text/plain": [
       "count    26203.000000\n",
       "mean        65.279697\n",
       "std         10.330316\n",
       "min         25.800000\n",
       "25%         58.000000\n",
       "50%         64.600000\n",
       "75%         74.100000\n",
       "max         86.900000\n",
       "Name: temp-end, dtype: float64"
      ]
     },
     "execution_count": 26,
     "metadata": {},
     "output_type": "execute_result"
    }
   ],
   "source": [
    "df1['temp-end'].describe()"
   ]
  },
  {
   "cell_type": "code",
   "execution_count": 31,
   "metadata": {},
   "outputs": [],
   "source": [
    "cat1 = df1[df1['temp-end']>=58]\n",
    "cat2 = df1[df1['temp-end']<58]"
   ]
  },
  {
   "cell_type": "code",
   "execution_count": 32,
   "metadata": {},
   "outputs": [
    {
     "data": {
      "text/plain": [
       "Ttest_indResult(statistic=0.6492695066836327, pvalue=0.5161698831665615)"
      ]
     },
     "execution_count": 32,
     "metadata": {},
     "output_type": "execute_result"
    }
   ],
   "source": [
    "ttest_ind(cat1['Fall'], cat2['Fall'])"
   ]
  },
  {
   "cell_type": "code",
   "execution_count": 33,
   "metadata": {},
   "outputs": [
    {
     "data": {
      "text/plain": [
       "count    26203.000000\n",
       "mean        12.086467\n",
       "std          5.095441\n",
       "min          4.900000\n",
       "25%          8.600000\n",
       "50%         11.000000\n",
       "75%         14.400000\n",
       "max         31.200000\n",
       "Name: wspd-end, dtype: float64"
      ]
     },
     "execution_count": 33,
     "metadata": {},
     "output_type": "execute_result"
    }
   ],
   "source": [
    "df1['wspd-end'].describe()"
   ]
  },
  {
   "cell_type": "code",
   "execution_count": 39,
   "metadata": {},
   "outputs": [],
   "source": [
    "cat1 = df1[df1['wspd-end']>=8]\n",
    "cat2 = df1[df1['wspd-end']<8]"
   ]
  },
  {
   "cell_type": "code",
   "execution_count": 40,
   "metadata": {},
   "outputs": [
    {
     "data": {
      "text/plain": [
       "Ttest_indResult(statistic=-1.5786313624512613, pvalue=0.11443270857704761)"
      ]
     },
     "execution_count": 40,
     "metadata": {},
     "output_type": "execute_result"
    }
   ],
   "source": [
    "ttest_ind(cat1['Fall'], cat2['Fall'])"
   ]
  },
  {
   "cell_type": "code",
   "execution_count": 42,
   "metadata": {},
   "outputs": [
    {
     "data": {
      "text/plain": [
       "count    26203.000000\n",
       "mean         9.206289\n",
       "std          1.096878\n",
       "min          4.100000\n",
       "25%          8.800000\n",
       "50%          9.700000\n",
       "75%          9.900000\n",
       "max          9.900000\n",
       "Name: visibility-end, dtype: float64"
      ]
     },
     "execution_count": 42,
     "metadata": {},
     "output_type": "execute_result"
    }
   ],
   "source": [
    "df1['visibility-end'].describe()"
   ]
  },
  {
   "cell_type": "code",
   "execution_count": 45,
   "metadata": {},
   "outputs": [],
   "source": [
    "cat1 = df1[df1['visibility-end']>=7]\n",
    "cat2 = df1[df1['visibility-end']<7]"
   ]
  },
  {
   "cell_type": "code",
   "execution_count": 46,
   "metadata": {},
   "outputs": [
    {
     "data": {
      "text/plain": [
       "Ttest_indResult(statistic=1.9560290492036079, pvalue=0.05047234227632735)"
      ]
     },
     "execution_count": 46,
     "metadata": {},
     "output_type": "execute_result"
    }
   ],
   "source": [
    "ttest_ind(cat1['Fall'], cat2['Fall'])"
   ]
  },
  {
   "cell_type": "code",
   "execution_count": 54,
   "metadata": {},
   "outputs": [
    {
     "name": "stdout",
     "output_type": "stream",
     "text": [
      "For variablecloudcover-end:\n",
      "count    26203.000000\n",
      "mean        35.247392\n",
      "std         27.334324\n",
      "min          0.000000\n",
      "25%         10.400000\n",
      "50%         34.100000\n",
      "75%         57.700000\n",
      "max         96.400000\n",
      "Name: cloudcover-end, dtype: float64\n",
      "For variablewgust-end:\n",
      "count    16878.000000\n",
      "mean        23.919090\n",
      "std          7.507363\n",
      "min         11.400000\n",
      "25%         18.300000\n",
      "50%         23.000000\n",
      "75%         26.400000\n",
      "max         48.300000\n",
      "Name: wgust-end, dtype: float64\n",
      "For variablemoonphase-end:\n",
      "count    26203.000000\n",
      "mean         0.517779\n",
      "std          0.308233\n",
      "min          0.000000\n",
      "25%          0.280000\n",
      "50%          0.510000\n",
      "75%          0.780000\n",
      "max          1.000000\n",
      "Name: moonphase-end, dtype: float64\n",
      "For variablePrecip_Prior_5_Day:\n",
      "count    26203.000000\n",
      "mean         0.664816\n",
      "std          1.197649\n",
      "min          0.000000\n",
      "25%          0.010000\n",
      "50%          0.200000\n",
      "75%          0.660000\n",
      "max          6.480000\n",
      "Name: Precip_Prior_5_Day, dtype: float64\n",
      "For variablePrecip_Prior_7_Day:\n",
      "count    26203.000000\n",
      "mean         0.837206\n",
      "std          1.300417\n",
      "min          0.000000\n",
      "25%          0.030000\n",
      "50%          0.410000\n",
      "75%          1.060000\n",
      "max          6.490000\n",
      "Name: Precip_Prior_7_Day, dtype: float64\n",
      "For variableDress Score:\n",
      "count    55250.000000\n",
      "mean        34.412542\n",
      "std          5.337408\n",
      "min         10.600000\n",
      "25%         31.000000\n",
      "50%         34.100000\n",
      "75%         37.500000\n",
      "max         81.400000\n",
      "Name: Dress Score, dtype: float64\n",
      "For variableDress Place:\n",
      "count    55250.000000\n",
      "mean         7.847928\n",
      "std          6.347318\n",
      "min          1.000000\n",
      "25%          3.000000\n",
      "50%          7.000000\n",
      "75%         11.000000\n",
      "max         75.000000\n",
      "Name: Dress Place, dtype: float64\n"
     ]
    }
   ],
   "source": [
    "list=['cloudcover-end', 'wgust-end', 'moonphase-end','Precip_Prior_5_Day', 'Precip_Prior_7_Day',\n",
    "     'Dress Score', 'Dress Place']\n",
    "for stuff in list:\n",
    "    print(f'For variable{stuff}:')\n",
    "    print(df1[stuff].describe())"
   ]
  },
  {
   "cell_type": "code",
   "execution_count": 55,
   "metadata": {},
   "outputs": [
    {
     "name": "stdout",
     "output_type": "stream",
     "text": [
      "For varible cloudcover-end and value 34\n",
      "Ttest_indResult(statistic=-0.4518927353655275, pvalue=0.6513499988703817)\n",
      "For varible wgust-end and value 23\n",
      "Ttest_indResult(statistic=0.5940500222673211, pvalue=0.5524866192943165)\n",
      "For varible moonphase-end and value 0.51\n",
      "Ttest_indResult(statistic=-0.18096111641406107, pvalue=0.8563994963541687)\n",
      "For varible Precip_Prior_5_Day and value 0\n",
      "Ttest_indResult(statistic=1.7340452535814685, pvalue=0.08292181629362917)\n",
      "For varible Precip_Prior_7_Day and value 0\n",
      "Ttest_indResult(statistic=0.7326878795355459, pvalue=0.4637553724861345)\n",
      "For varible Dress Score and value 34\n",
      "Ttest_indResult(statistic=6.524572146469699, pvalue=6.878338073650345e-11)\n",
      "For varible Dress Place and value 7\n",
      "Ttest_indResult(statistic=6.335655053521592, pvalue=2.381491592932066e-10)\n"
     ]
    }
   ],
   "source": [
    "dict={'cloudcover-end': 34,\n",
    "      'wgust-end':23,\n",
    "      'moonphase-end':0.510000,\n",
    "      'Precip_Prior_5_Day':0,\n",
    "      'Precip_Prior_7_Day':0,\n",
    "      'Dress Score': 34,\n",
    "      'Dress Place': 7\n",
    "     }\n",
    "for stuff in dict.keys():\n",
    "    cat1 = df1[df1[stuff]>dict[stuff]]\n",
    "    cat2 = df1[df1[stuff]<=dict[stuff]]\n",
    "    print(f'For varible {stuff} and value {dict[stuff]}')\n",
    "    print(ttest_ind(cat1['Fall'], cat2['Fall']))"
   ]
  },
  {
   "cell_type": "code",
   "execution_count": 57,
   "metadata": {},
   "outputs": [
    {
     "data": {
      "text/plain": [
       "Ttest_indResult(statistic=-1.2018459918042608, pvalue=0.2294558367793024)"
      ]
     },
     "execution_count": 57,
     "metadata": {},
     "output_type": "execute_result"
    }
   ],
   "source": [
    "cat1 = df1[df1['Junior']==1]\n",
    "cat2 = df1[df1['Senior']==1]\n",
    "ttest_ind(cat1['Fall'], cat2['Fall'])     "
   ]
  },
  {
   "cell_type": "code",
   "execution_count": 58,
   "metadata": {},
   "outputs": [
    {
     "data": {
      "text/plain": [
       "count    55250.000000\n",
       "mean         0.056054\n",
       "std          0.230029\n",
       "min          0.000000\n",
       "25%          0.000000\n",
       "50%          0.000000\n",
       "75%          0.000000\n",
       "max          1.000000\n",
       "Name: Senior, dtype: float64"
      ]
     },
     "execution_count": 58,
     "metadata": {},
     "output_type": "execute_result"
    }
   ],
   "source": [
    "df1['Senior'].describe()"
   ]
  },
  {
   "cell_type": "code",
   "execution_count": null,
   "metadata": {},
   "outputs": [],
   "source": []
  }
 ],
 "metadata": {
  "kernelspec": {
   "display_name": "Python [conda env:PythonData] *",
   "language": "python",
   "name": "conda-env-PythonData-py"
  },
  "language_info": {
   "codemirror_mode": {
    "name": "ipython",
    "version": 3
   },
   "file_extension": ".py",
   "mimetype": "text/x-python",
   "name": "python",
   "nbconvert_exporter": "python",
   "pygments_lexer": "ipython3",
   "version": "3.6.10"
  }
 },
 "nbformat": 4,
 "nbformat_minor": 4
}
