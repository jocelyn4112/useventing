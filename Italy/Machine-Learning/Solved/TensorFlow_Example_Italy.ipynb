{
 "cells": [
  {
   "cell_type": "code",
   "execution_count": 1,
   "metadata": {},
   "outputs": [],
   "source": [
    "# Set the seed value for the notebook so the results are reproducible\n",
    "from numpy.random import seed\n",
    "seed(1)"
   ]
  },
  {
   "cell_type": "code",
   "execution_count": 2,
   "metadata": {
    "slideshow": {
     "slide_type": "subslide"
    }
   },
   "outputs": [
    {
     "name": "stdout",
     "output_type": "stream",
     "text": [
      "Requirement already satisfied: tensorflow in c:\\users\\atrav\\anaconda3\\envs\\pythondata\\lib\\site-packages (2.4.1)\n",
      "Requirement already satisfied: flatbuffers~=1.12.0 in c:\\users\\atrav\\anaconda3\\envs\\pythondata\\lib\\site-packages (from tensorflow) (1.12)\n",
      "Requirement already satisfied: google-pasta~=0.2 in c:\\users\\atrav\\anaconda3\\envs\\pythondata\\lib\\site-packages (from tensorflow) (0.2.0)\n",
      "Requirement already satisfied: termcolor~=1.1.0 in c:\\users\\atrav\\anaconda3\\envs\\pythondata\\lib\\site-packages (from tensorflow) (1.1.0)\n",
      "Requirement already satisfied: tensorboard~=2.4 in c:\\users\\atrav\\anaconda3\\envs\\pythondata\\lib\\site-packages (from tensorflow) (2.4.1)\n",
      "Requirement already satisfied: absl-py~=0.10 in c:\\users\\atrav\\anaconda3\\envs\\pythondata\\lib\\site-packages (from tensorflow) (0.11.0)\n",
      "Requirement already satisfied: wheel~=0.35 in c:\\users\\atrav\\anaconda3\\envs\\pythondata\\lib\\site-packages (from tensorflow) (0.36.2)\n",
      "Requirement already satisfied: wrapt~=1.12.1 in c:\\users\\atrav\\anaconda3\\envs\\pythondata\\lib\\site-packages (from tensorflow) (1.12.1)\n",
      "Requirement already satisfied: numpy~=1.19.2 in c:\\users\\atrav\\anaconda3\\envs\\pythondata\\lib\\site-packages (from tensorflow) (1.19.4)\n",
      "Requirement already satisfied: six~=1.15.0 in c:\\users\\atrav\\anaconda3\\envs\\pythondata\\lib\\site-packages (from tensorflow) (1.15.0)\n",
      "Requirement already satisfied: gast==0.3.3 in c:\\users\\atrav\\anaconda3\\envs\\pythondata\\lib\\site-packages (from tensorflow) (0.3.3)\n",
      "Requirement already satisfied: tensorflow-estimator<2.5.0,>=2.4.0 in c:\\users\\atrav\\anaconda3\\envs\\pythondata\\lib\\site-packages (from tensorflow) (2.4.0)\n",
      "Requirement already satisfied: h5py~=2.10.0 in c:\\users\\atrav\\anaconda3\\envs\\pythondata\\lib\\site-packages (from tensorflow) (2.10.0)\n",
      "Requirement already satisfied: grpcio~=1.32.0 in c:\\users\\atrav\\anaconda3\\envs\\pythondata\\lib\\site-packages (from tensorflow) (1.32.0)\n",
      "Requirement already satisfied: keras-preprocessing~=1.1.2 in c:\\users\\atrav\\anaconda3\\envs\\pythondata\\lib\\site-packages (from tensorflow) (1.1.2)\n",
      "Requirement already satisfied: typing-extensions~=3.7.4 in c:\\users\\atrav\\anaconda3\\envs\\pythondata\\lib\\site-packages (from tensorflow) (3.7.4.2)\n",
      "Requirement already satisfied: protobuf>=3.9.2 in c:\\users\\atrav\\anaconda3\\envs\\pythondata\\lib\\site-packages (from tensorflow) (3.14.0)\n",
      "Requirement already satisfied: opt-einsum~=3.3.0 in c:\\users\\atrav\\anaconda3\\envs\\pythondata\\lib\\site-packages (from tensorflow) (3.3.0)\n",
      "Requirement already satisfied: astunparse~=1.6.3 in c:\\users\\atrav\\anaconda3\\envs\\pythondata\\lib\\site-packages (from tensorflow) (1.6.3)\n",
      "Requirement already satisfied: google-auth-oauthlib<0.5,>=0.4.1 in c:\\users\\atrav\\anaconda3\\envs\\pythondata\\lib\\site-packages (from tensorboard~=2.4->tensorflow) (0.4.2)\n",
      "Requirement already satisfied: setuptools>=41.0.0 in c:\\users\\atrav\\anaconda3\\envs\\pythondata\\lib\\site-packages (from tensorboard~=2.4->tensorflow) (49.2.0.post20200714)\n",
      "Requirement already satisfied: tensorboard-plugin-wit>=1.6.0 in c:\\users\\atrav\\anaconda3\\envs\\pythondata\\lib\\site-packages (from tensorboard~=2.4->tensorflow) (1.8.0)\n",
      "Requirement already satisfied: werkzeug>=0.11.15 in c:\\users\\atrav\\anaconda3\\envs\\pythondata\\lib\\site-packages (from tensorboard~=2.4->tensorflow) (1.0.1)\n",
      "Requirement already satisfied: markdown>=2.6.8 in c:\\users\\atrav\\anaconda3\\envs\\pythondata\\lib\\site-packages (from tensorboard~=2.4->tensorflow) (3.3.3)\n",
      "Requirement already satisfied: requests<3,>=2.21.0 in c:\\users\\atrav\\anaconda3\\envs\\pythondata\\lib\\site-packages (from tensorboard~=2.4->tensorflow) (2.25.1)\n",
      "Requirement already satisfied: google-auth<2,>=1.6.3 in c:\\users\\atrav\\anaconda3\\envs\\pythondata\\lib\\site-packages (from tensorboard~=2.4->tensorflow) (1.26.1)\n",
      "Requirement already satisfied: requests-oauthlib>=0.7.0 in c:\\users\\atrav\\anaconda3\\envs\\pythondata\\lib\\site-packages (from google-auth-oauthlib<0.5,>=0.4.1->tensorboard~=2.4->tensorflow) (1.3.0)\n",
      "Requirement already satisfied: importlib-metadata; python_version < \"3.8\" in c:\\users\\atrav\\anaconda3\\envs\\pythondata\\lib\\site-packages (from markdown>=2.6.8->tensorboard~=2.4->tensorflow) (1.7.0)\n",
      "Requirement already satisfied: urllib3<1.27,>=1.21.1 in c:\\users\\atrav\\anaconda3\\envs\\pythondata\\lib\\site-packages (from requests<3,>=2.21.0->tensorboard~=2.4->tensorflow) (1.26.2)\n",
      "Requirement already satisfied: idna<3,>=2.5 in c:\\users\\atrav\\anaconda3\\envs\\pythondata\\lib\\site-packages (from requests<3,>=2.21.0->tensorboard~=2.4->tensorflow) (2.10)\n",
      "Requirement already satisfied: certifi>=2017.4.17 in c:\\users\\atrav\\anaconda3\\envs\\pythondata\\lib\\site-packages (from requests<3,>=2.21.0->tensorboard~=2.4->tensorflow) (2020.12.5)\n",
      "Requirement already satisfied: chardet<5,>=3.0.2 in c:\\users\\atrav\\anaconda3\\envs\\pythondata\\lib\\site-packages (from requests<3,>=2.21.0->tensorboard~=2.4->tensorflow) (4.0.0)\n",
      "Requirement already satisfied: rsa<5,>=3.1.4; python_version >= \"3.6\" in c:\\users\\atrav\\anaconda3\\envs\\pythondata\\lib\\site-packages (from google-auth<2,>=1.6.3->tensorboard~=2.4->tensorflow) (4.7)\n",
      "Requirement already satisfied: pyasn1-modules>=0.2.1 in c:\\users\\atrav\\anaconda3\\envs\\pythondata\\lib\\site-packages (from google-auth<2,>=1.6.3->tensorboard~=2.4->tensorflow) (0.2.8)\n",
      "Requirement already satisfied: cachetools<5.0,>=2.0.0 in c:\\users\\atrav\\anaconda3\\envs\\pythondata\\lib\\site-packages (from google-auth<2,>=1.6.3->tensorboard~=2.4->tensorflow) (4.2.1)\n",
      "Requirement already satisfied: oauthlib>=3.0.0 in c:\\users\\atrav\\anaconda3\\envs\\pythondata\\lib\\site-packages (from requests-oauthlib>=0.7.0->google-auth-oauthlib<0.5,>=0.4.1->tensorboard~=2.4->tensorflow) (3.1.0)\n",
      "Requirement already satisfied: zipp>=0.5 in c:\\users\\atrav\\anaconda3\\envs\\pythondata\\lib\\site-packages (from importlib-metadata; python_version < \"3.8\"->markdown>=2.6.8->tensorboard~=2.4->tensorflow) (3.1.0)\n",
      "Requirement already satisfied: pyasn1>=0.1.3 in c:\\users\\atrav\\anaconda3\\envs\\pythondata\\lib\\site-packages (from rsa<5,>=3.1.4; python_version >= \"3.6\"->google-auth<2,>=1.6.3->tensorboard~=2.4->tensorflow) (0.4.8)\n"
     ]
    }
   ],
   "source": [
    "# Dependencies\n",
    "import numpy as np\n",
    "import pandas as pd\n",
    "!pip install tensorflow"
   ]
  },
  {
   "cell_type": "code",
   "execution_count": 3,
   "metadata": {},
   "outputs": [
    {
     "data": {
      "text/plain": [
       "'2.4.0'"
      ]
     },
     "execution_count": 3,
     "metadata": {},
     "output_type": "execute_result"
    }
   ],
   "source": [
    "import tensorflow\n",
    "tensorflow.keras.__version__"
   ]
  },
  {
   "cell_type": "markdown",
   "metadata": {},
   "source": [
    "# Evaluation\n",
    "\n",
    "This database was created to identify horse race results, based upon the following variables: dressage, stad jump and time, cross-country jump and time, final score and final place. \n",
    "\n",
    "## Results\n",
    "The following results were evaluated:\n",
    "\n",
    "*E – Eliminated by the rules\n",
    "*TE – Technical Elimination.\n",
    "*RF – Rider Fall.\n",
    "*W – rider chose to Withdraw before beginning the\n",
    "phase.\n",
    "*R – Rider chose to Retire during the phase.\n",
    "*MR – Mandatory Retirement.\n",
    "*DQ – Disqualified.\n",
    "*DR – Dangerous Riding.\n",
    "*NA – Not Accepted by the Ground Jury."
   ]
  },
  {
   "cell_type": "code",
   "execution_count": 4,
   "metadata": {
    "slideshow": {
     "slide_type": "fragment"
    }
   },
   "outputs": [
    {
     "data": {
      "text/html": [
       "<div>\n",
       "<style scoped>\n",
       "    .dataframe tbody tr th:only-of-type {\n",
       "        vertical-align: middle;\n",
       "    }\n",
       "\n",
       "    .dataframe tbody tr th {\n",
       "        vertical-align: top;\n",
       "    }\n",
       "\n",
       "    .dataframe thead th {\n",
       "        text-align: right;\n",
       "    }\n",
       "</style>\n",
       "<table border=\"1\" class=\"dataframe\">\n",
       "  <thead>\n",
       "    <tr style=\"text-align: right;\">\n",
       "      <th></th>\n",
       "      <th>Dress Score</th>\n",
       "      <th>Stad Jump</th>\n",
       "      <th>Stad Time</th>\n",
       "      <th>XC Jump</th>\n",
       "      <th>XC Time</th>\n",
       "      <th>Final Score</th>\n",
       "      <th>Final Place</th>\n",
       "      <th>Result</th>\n",
       "    </tr>\n",
       "  </thead>\n",
       "  <tbody>\n",
       "    <tr>\n",
       "      <th>0</th>\n",
       "      <td>37.0</td>\n",
       "      <td>0</td>\n",
       "      <td>0.0</td>\n",
       "      <td>0</td>\n",
       "      <td>0.0</td>\n",
       "      <td>37.0</td>\n",
       "      <td>1</td>\n",
       "      <td>CLASSIFIED</td>\n",
       "    </tr>\n",
       "    <tr>\n",
       "      <th>1</th>\n",
       "      <td>34.3</td>\n",
       "      <td>4</td>\n",
       "      <td>0.0</td>\n",
       "      <td>0</td>\n",
       "      <td>0.0</td>\n",
       "      <td>38.3</td>\n",
       "      <td>2</td>\n",
       "      <td>CLASSIFIED</td>\n",
       "    </tr>\n",
       "    <tr>\n",
       "      <th>2</th>\n",
       "      <td>37.8</td>\n",
       "      <td>0</td>\n",
       "      <td>7.6</td>\n",
       "      <td>0</td>\n",
       "      <td>0.0</td>\n",
       "      <td>45.4</td>\n",
       "      <td>3</td>\n",
       "      <td>CLASSIFIED</td>\n",
       "    </tr>\n",
       "    <tr>\n",
       "      <th>3</th>\n",
       "      <td>35.8</td>\n",
       "      <td>0</td>\n",
       "      <td>0.0</td>\n",
       "      <td>0</td>\n",
       "      <td>10.4</td>\n",
       "      <td>46.2</td>\n",
       "      <td>4</td>\n",
       "      <td>CLASSIFIED</td>\n",
       "    </tr>\n",
       "    <tr>\n",
       "      <th>4</th>\n",
       "      <td>34.0</td>\n",
       "      <td>0</td>\n",
       "      <td>0.0</td>\n",
       "      <td>0</td>\n",
       "      <td>20.0</td>\n",
       "      <td>54.0</td>\n",
       "      <td>5</td>\n",
       "      <td>CLASSIFIED</td>\n",
       "    </tr>\n",
       "  </tbody>\n",
       "</table>\n",
       "</div>"
      ],
      "text/plain": [
       "   Dress Score  Stad Jump  Stad Time  XC Jump  XC Time  Final Score  \\\n",
       "0         37.0          0        0.0        0      0.0         37.0   \n",
       "1         34.3          4        0.0        0      0.0         38.3   \n",
       "2         37.8          0        7.6        0      0.0         45.4   \n",
       "3         35.8          0        0.0        0     10.4         46.2   \n",
       "4         34.0          0        0.0        0     20.0         54.0   \n",
       "\n",
       "   Final Place      Result  \n",
       "0            1  CLASSIFIED  \n",
       "1            2  CLASSIFIED  \n",
       "2            3  CLASSIFIED  \n",
       "3            4  CLASSIFIED  \n",
       "4            5  CLASSIFIED  "
      ]
     },
     "execution_count": 4,
     "metadata": {},
     "output_type": "execute_result"
    }
   ],
   "source": [
    "voice = pd.read_csv('../Resources/test_AT.csv')\n",
    "voice.head()"
   ]
  },
  {
   "cell_type": "markdown",
   "metadata": {
    "slideshow": {
     "slide_type": "subslide"
    }
   },
   "source": [
    "## Data Pre-Processing"
   ]
  },
  {
   "cell_type": "code",
   "execution_count": 5,
   "metadata": {
    "nbgrader": {
     "grade": false,
     "grade_id": "cell-86a9e3212f200d21",
     "locked": false,
     "schema_version": 1,
     "solution": true
    },
    "slideshow": {
     "slide_type": "subslide"
    }
   },
   "outputs": [
    {
     "name": "stdout",
     "output_type": "stream",
     "text": [
      "(53214, 7) (53214,)\n"
     ]
    }
   ],
   "source": [
    "X = voice.drop(\"Result\", axis=1)\n",
    "y = voice[\"Result\"]\n",
    "print(X.shape, y.shape)"
   ]
  },
  {
   "cell_type": "code",
   "execution_count": 6,
   "metadata": {
    "nbgrader": {
     "grade": false,
     "grade_id": "cell-711a82d9b32c83ff",
     "locked": false,
     "schema_version": 1,
     "solution": true
    },
    "slideshow": {
     "slide_type": "fragment"
    }
   },
   "outputs": [],
   "source": [
    "from sklearn.model_selection import train_test_split\n",
    "from sklearn.preprocessing import LabelEncoder, MinMaxScaler\n",
    "from tensorflow.keras.utils import to_categorical"
   ]
  },
  {
   "cell_type": "code",
   "execution_count": 7,
   "metadata": {
    "nbgrader": {
     "grade": false,
     "grade_id": "cell-711a82d9b32c83ff",
     "locked": false,
     "schema_version": 1,
     "solution": true
    },
    "slideshow": {
     "slide_type": "fragment"
    }
   },
   "outputs": [],
   "source": [
    "X_train, X_test, y_train, y_test = train_test_split(\n",
    "    X, y, random_state=1)"
   ]
  },
  {
   "cell_type": "code",
   "execution_count": 8,
   "metadata": {
    "nbgrader": {
     "grade": false,
     "grade_id": "cell-711a82d9b32c83ff",
     "locked": false,
     "schema_version": 1,
     "solution": true
    },
    "slideshow": {
     "slide_type": "fragment"
    }
   },
   "outputs": [],
   "source": [
    "X_scaler = MinMaxScaler().fit(X_train)\n",
    "X_train_scaled = X_scaler.transform(X_train)\n",
    "X_test_scaled = X_scaler.transform(X_test)"
   ]
  },
  {
   "cell_type": "code",
   "execution_count": 9,
   "metadata": {
    "nbgrader": {
     "grade": false,
     "grade_id": "cell-711a82d9b32c83ff",
     "locked": false,
     "schema_version": 1,
     "solution": true
    },
    "slideshow": {
     "slide_type": "fragment"
    }
   },
   "outputs": [],
   "source": [
    "# Step 1: Label-encode data set\n",
    "label_encoder = LabelEncoder()\n",
    "label_encoder.fit(y_train)\n",
    "encoded_y_train = label_encoder.transform(y_train)\n",
    "encoded_y_test = label_encoder.transform(y_test)"
   ]
  },
  {
   "cell_type": "code",
   "execution_count": 10,
   "metadata": {
    "nbgrader": {
     "grade": false,
     "grade_id": "cell-711a82d9b32c83ff",
     "locked": false,
     "schema_version": 1,
     "solution": true
    },
    "slideshow": {
     "slide_type": "fragment"
    }
   },
   "outputs": [],
   "source": [
    "# Step 2: Convert encoded labels to one-hot-encoding\n",
    "y_train_categorical = to_categorical(encoded_y_train)\n",
    "y_test_categorical = to_categorical(encoded_y_test)"
   ]
  },
  {
   "cell_type": "markdown",
   "metadata": {},
   "source": [
    "# Create a Deep Learning Model"
   ]
  },
  {
   "cell_type": "code",
   "execution_count": 11,
   "metadata": {},
   "outputs": [],
   "source": [
    "from tensorflow.keras.models import Sequential\n",
    "from tensorflow.keras.layers import Dense"
   ]
  },
  {
   "cell_type": "code",
   "execution_count": 12,
   "metadata": {},
   "outputs": [],
   "source": [
    "# Create model and add layers\n",
    "model = Sequential()\n",
    "model.add(Dense(units=100, activation='relu', input_dim=7))\n",
    "model.add(Dense(units=100, activation='relu'))\n",
    "model.add(Dense(units=9, activation='softmax'))"
   ]
  },
  {
   "cell_type": "code",
   "execution_count": 13,
   "metadata": {},
   "outputs": [],
   "source": [
    "# Compile and fit the model\n",
    "model.compile(optimizer='adam',\n",
    "              loss='categorical_crossentropy',\n",
    "              metrics=['accuracy'])"
   ]
  },
  {
   "cell_type": "code",
   "execution_count": 14,
   "metadata": {},
   "outputs": [
    {
     "name": "stdout",
     "output_type": "stream",
     "text": [
      "Model: \"sequential\"\n",
      "_________________________________________________________________\n",
      "Layer (type)                 Output Shape              Param #   \n",
      "=================================================================\n",
      "dense (Dense)                (None, 100)               800       \n",
      "_________________________________________________________________\n",
      "dense_1 (Dense)              (None, 100)               10100     \n",
      "_________________________________________________________________\n",
      "dense_2 (Dense)              (None, 9)                 909       \n",
      "=================================================================\n",
      "Total params: 11,809\n",
      "Trainable params: 11,809\n",
      "Non-trainable params: 0\n",
      "_________________________________________________________________\n"
     ]
    }
   ],
   "source": [
    "model.summary()"
   ]
  },
  {
   "cell_type": "code",
   "execution_count": 15,
   "metadata": {},
   "outputs": [
    {
     "name": "stdout",
     "output_type": "stream",
     "text": [
      "Epoch 1/60\n",
      "1248/1248 - 1s - loss: 0.2783 - accuracy: 0.9166\n",
      "Epoch 2/60\n",
      "1248/1248 - 1s - loss: 0.1634 - accuracy: 0.9335\n",
      "Epoch 3/60\n",
      "1248/1248 - 1s - loss: 0.1591 - accuracy: 0.9350\n",
      "Epoch 4/60\n",
      "1248/1248 - 1s - loss: 0.1568 - accuracy: 0.9350\n",
      "Epoch 5/60\n",
      "1248/1248 - 1s - loss: 0.1549 - accuracy: 0.9357\n",
      "Epoch 6/60\n",
      "1248/1248 - 1s - loss: 0.1531 - accuracy: 0.9366\n",
      "Epoch 7/60\n",
      "1248/1248 - 1s - loss: 0.1520 - accuracy: 0.9363\n",
      "Epoch 8/60\n",
      "1248/1248 - 1s - loss: 0.1513 - accuracy: 0.9374\n",
      "Epoch 9/60\n",
      "1248/1248 - 1s - loss: 0.1510 - accuracy: 0.9365\n",
      "Epoch 10/60\n",
      "1248/1248 - 1s - loss: 0.1505 - accuracy: 0.9374\n",
      "Epoch 11/60\n",
      "1248/1248 - 1s - loss: 0.1499 - accuracy: 0.9373\n",
      "Epoch 12/60\n",
      "1248/1248 - 1s - loss: 0.1494 - accuracy: 0.9377\n",
      "Epoch 13/60\n",
      "1248/1248 - 1s - loss: 0.1491 - accuracy: 0.9373\n",
      "Epoch 14/60\n",
      "1248/1248 - 1s - loss: 0.1488 - accuracy: 0.9375\n",
      "Epoch 15/60\n",
      "1248/1248 - 1s - loss: 0.1484 - accuracy: 0.9382\n",
      "Epoch 16/60\n",
      "1248/1248 - 1s - loss: 0.1477 - accuracy: 0.9377\n",
      "Epoch 17/60\n",
      "1248/1248 - 1s - loss: 0.1476 - accuracy: 0.9380\n",
      "Epoch 18/60\n",
      "1248/1248 - 1s - loss: 0.1472 - accuracy: 0.9384\n",
      "Epoch 19/60\n",
      "1248/1248 - 1s - loss: 0.1468 - accuracy: 0.9384\n",
      "Epoch 20/60\n",
      "1248/1248 - 1s - loss: 0.1463 - accuracy: 0.9399\n",
      "Epoch 21/60\n",
      "1248/1248 - 1s - loss: 0.1459 - accuracy: 0.9399\n",
      "Epoch 22/60\n",
      "1248/1248 - 1s - loss: 0.1454 - accuracy: 0.9409\n",
      "Epoch 23/60\n",
      "1248/1248 - 1s - loss: 0.1449 - accuracy: 0.9409\n",
      "Epoch 24/60\n",
      "1248/1248 - 1s - loss: 0.1441 - accuracy: 0.9424\n",
      "Epoch 25/60\n",
      "1248/1248 - 1s - loss: 0.1436 - accuracy: 0.9427\n",
      "Epoch 26/60\n",
      "1248/1248 - 1s - loss: 0.1429 - accuracy: 0.9434\n",
      "Epoch 27/60\n",
      "1248/1248 - 1s - loss: 0.1422 - accuracy: 0.9439\n",
      "Epoch 28/60\n",
      "1248/1248 - 1s - loss: 0.1417 - accuracy: 0.9448\n",
      "Epoch 29/60\n",
      "1248/1248 - 1s - loss: 0.1406 - accuracy: 0.9449\n",
      "Epoch 30/60\n",
      "1248/1248 - 1s - loss: 0.1402 - accuracy: 0.9454\n",
      "Epoch 31/60\n",
      "1248/1248 - 1s - loss: 0.1394 - accuracy: 0.9455\n",
      "Epoch 32/60\n",
      "1248/1248 - 1s - loss: 0.1391 - accuracy: 0.9460\n",
      "Epoch 33/60\n",
      "1248/1248 - 1s - loss: 0.1380 - accuracy: 0.9471\n",
      "Epoch 34/60\n",
      "1248/1248 - 1s - loss: 0.1373 - accuracy: 0.9471\n",
      "Epoch 35/60\n",
      "1248/1248 - 1s - loss: 0.1368 - accuracy: 0.9471\n",
      "Epoch 36/60\n",
      "1248/1248 - 1s - loss: 0.1366 - accuracy: 0.9471\n",
      "Epoch 37/60\n",
      "1248/1248 - 1s - loss: 0.1360 - accuracy: 0.9475\n",
      "Epoch 38/60\n",
      "1248/1248 - 1s - loss: 0.1353 - accuracy: 0.9481\n",
      "Epoch 39/60\n",
      "1248/1248 - 1s - loss: 0.1345 - accuracy: 0.9480\n",
      "Epoch 40/60\n",
      "1248/1248 - 1s - loss: 0.1343 - accuracy: 0.9481\n",
      "Epoch 41/60\n",
      "1248/1248 - 1s - loss: 0.1335 - accuracy: 0.9482\n",
      "Epoch 42/60\n",
      "1248/1248 - 1s - loss: 0.1334 - accuracy: 0.9488\n",
      "Epoch 43/60\n",
      "1248/1248 - 1s - loss: 0.1325 - accuracy: 0.9488\n",
      "Epoch 44/60\n",
      "1248/1248 - 1s - loss: 0.1323 - accuracy: 0.9489\n",
      "Epoch 45/60\n",
      "1248/1248 - 1s - loss: 0.1319 - accuracy: 0.9494\n",
      "Epoch 46/60\n",
      "1248/1248 - 1s - loss: 0.1314 - accuracy: 0.9495\n",
      "Epoch 47/60\n",
      "1248/1248 - 1s - loss: 0.1313 - accuracy: 0.9492\n",
      "Epoch 48/60\n",
      "1248/1248 - 1s - loss: 0.1312 - accuracy: 0.9496\n",
      "Epoch 49/60\n",
      "1248/1248 - 1s - loss: 0.1305 - accuracy: 0.9488\n",
      "Epoch 50/60\n",
      "1248/1248 - 1s - loss: 0.1305 - accuracy: 0.9493\n",
      "Epoch 51/60\n",
      "1248/1248 - 1s - loss: 0.1306 - accuracy: 0.9495\n",
      "Epoch 52/60\n",
      "1248/1248 - 1s - loss: 0.1297 - accuracy: 0.9498\n",
      "Epoch 53/60\n",
      "1248/1248 - 1s - loss: 0.1300 - accuracy: 0.9493\n",
      "Epoch 54/60\n",
      "1248/1248 - 1s - loss: 0.1292 - accuracy: 0.9502\n",
      "Epoch 55/60\n",
      "1248/1248 - 1s - loss: 0.1291 - accuracy: 0.9499\n",
      "Epoch 56/60\n",
      "1248/1248 - 1s - loss: 0.1290 - accuracy: 0.9495\n",
      "Epoch 57/60\n",
      "1248/1248 - 1s - loss: 0.1289 - accuracy: 0.9490\n",
      "Epoch 58/60\n",
      "1248/1248 - 1s - loss: 0.1287 - accuracy: 0.9492\n",
      "Epoch 59/60\n",
      "1248/1248 - 1s - loss: 0.1285 - accuracy: 0.9495\n",
      "Epoch 60/60\n",
      "1248/1248 - 1s - loss: 0.1279 - accuracy: 0.9500\n"
     ]
    },
    {
     "data": {
      "text/plain": [
       "<tensorflow.python.keras.callbacks.History at 0x2157a06e208>"
      ]
     },
     "execution_count": 15,
     "metadata": {},
     "output_type": "execute_result"
    }
   ],
   "source": [
    "model.fit(\n",
    "    X_train_scaled,\n",
    "    y_train_categorical,\n",
    "    epochs=60,\n",
    "    shuffle=True,\n",
    "    verbose=2\n",
    ")"
   ]
  },
  {
   "cell_type": "markdown",
   "metadata": {},
   "source": [
    "## Quantify our Trained Model"
   ]
  },
  {
   "cell_type": "code",
   "execution_count": 16,
   "metadata": {},
   "outputs": [
    {
     "name": "stdout",
     "output_type": "stream",
     "text": [
      "416/416 - 0s - loss: 0.1284 - accuracy: 0.9505\n",
      "Normal Neural Network - Loss: 0.1284453123807907, Accuracy: 0.9505411982536316\n"
     ]
    }
   ],
   "source": [
    "model_loss, model_accuracy = model.evaluate(\n",
    "    X_test_scaled, y_test_categorical, verbose=2)\n",
    "print(\n",
    "    f\"Normal Neural Network - Loss: {model_loss}, Accuracy: {model_accuracy}\")"
   ]
  },
  {
   "cell_type": "markdown",
   "metadata": {
    "slideshow": {
     "slide_type": "subslide"
    }
   },
   "source": [
    "## Make Predictions"
   ]
  },
  {
   "cell_type": "code",
   "execution_count": 17,
   "metadata": {
    "nbgrader": {
     "grade": false,
     "grade_id": "cell-f97eb3e97245187b",
     "locked": false,
     "schema_version": 1,
     "solution": true
    },
    "slideshow": {
     "slide_type": "fragment"
    }
   },
   "outputs": [
    {
     "name": "stderr",
     "output_type": "stream",
     "text": [
      "C:\\Users\\atrav\\Anaconda3\\envs\\PythonData\\lib\\site-packages\\tensorflow\\python\\keras\\engine\\sequential.py:450: UserWarning: `model.predict_classes()` is deprecated and will be removed after 2021-01-01. Please use instead:* `np.argmax(model.predict(x), axis=-1)`,   if your model does multi-class classification   (e.g. if it uses a `softmax` last-layer activation).* `(model.predict(x) > 0.5).astype(\"int32\")`,   if your model does binary classification   (e.g. if it uses a `sigmoid` last-layer activation).\n",
      "  warnings.warn('`model.predict_classes()` is deprecated and '\n"
     ]
    }
   ],
   "source": [
    "encoded_predictions = model.predict_classes(X_test_scaled[:5])\n",
    "prediction_labels = label_encoder.inverse_transform(encoded_predictions)"
   ]
  },
  {
   "cell_type": "code",
   "execution_count": 18,
   "metadata": {},
   "outputs": [
    {
     "name": "stdout",
     "output_type": "stream",
     "text": [
      "Predicted classes: ['CLASSIFIED' 'CLASSIFIED' 'CLASSIFIED' 'CLASSIFIED' 'CLASSIFIED']\n",
      "Actual Labels: ['CLASSIFIED', 'CLASSIFIED', 'CLASSIFIED', 'CLASSIFIED', 'CLASSIFIED']\n"
     ]
    }
   ],
   "source": [
    "print(f\"Predicted classes: {prediction_labels}\")\n",
    "print(f\"Actual Labels: {list(y_test[:5])}\")"
   ]
  }
 ],
 "metadata": {
  "kernelspec": {
   "display_name": "Python 3",
   "language": "python",
   "name": "python3"
  },
  "language_info": {
   "codemirror_mode": {
    "name": "ipython",
    "version": 3
   },
   "file_extension": ".py",
   "mimetype": "text/x-python",
   "name": "python",
   "nbconvert_exporter": "python",
   "pygments_lexer": "ipython3",
   "version": "3.6.10"
  },
  "varInspector": {
   "cols": {
    "lenName": 16,
    "lenType": 16,
    "lenVar": 40
   },
   "kernels_config": {
    "python": {
     "delete_cmd_postfix": "",
     "delete_cmd_prefix": "del ",
     "library": "var_list.py",
     "varRefreshCmd": "print(var_dic_list())"
    },
    "r": {
     "delete_cmd_postfix": ") ",
     "delete_cmd_prefix": "rm(",
     "library": "var_list.r",
     "varRefreshCmd": "cat(var_dic_list()) "
    }
   },
   "types_to_exclude": [
    "module",
    "function",
    "builtin_function_or_method",
    "instance",
    "_Feature"
   ],
   "window_display": false
  }
 },
 "nbformat": 4,
 "nbformat_minor": 4
}
