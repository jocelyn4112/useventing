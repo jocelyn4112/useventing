{
 "cells": [
  {
   "cell_type": "code",
   "execution_count": 19,
   "metadata": {},
   "outputs": [
    {
     "ename": "ModuleNotFoundError",
     "evalue": "No module named 'Pyppeteer'",
     "output_type": "error",
     "traceback": [
      "\u001b[1;31m---------------------------------------------------------------------------\u001b[0m",
      "\u001b[1;31mModuleNotFoundError\u001b[0m                       Traceback (most recent call last)",
      "\u001b[1;32m<ipython-input-19-c0d4e2894843>\u001b[0m in \u001b[0;36m<module>\u001b[1;34m\u001b[0m\n\u001b[0;32m     56\u001b[0m \u001b[1;31m#pypetter (for scraping)\u001b[0m\u001b[1;33m\u001b[0m\u001b[1;33m\u001b[0m\u001b[1;33m\u001b[0m\u001b[0m\n\u001b[0;32m     57\u001b[0m \u001b[1;32mimport\u001b[0m \u001b[0masyncio\u001b[0m\u001b[1;33m\u001b[0m\u001b[1;33m\u001b[0m\u001b[0m\n\u001b[1;32m---> 58\u001b[1;33m \u001b[1;32mfrom\u001b[0m \u001b[0mPyppeteer\u001b[0m \u001b[1;32mimport\u001b[0m \u001b[0mlaunch\u001b[0m\u001b[1;33m\u001b[0m\u001b[1;33m\u001b[0m\u001b[0m\n\u001b[0m",
      "\u001b[1;31mModuleNotFoundError\u001b[0m: No module named 'Pyppeteer'"
     ]
    }
   ],
   "source": [
    "#Run in python Data\n",
    "##import dependencies\n",
    "import bs4\n",
    "from bs4 import BeautifulSoup \n",
    "import requests\n",
    "from pprint import pprint\n",
    "import pandas as pd\n",
    "import lxml\n",
    "from splinter import Browser\n",
    "import os\n",
    "import time\n",
    "import datetime\n",
    "#from api_key import api_key\n",
    "import numpy as np\n",
    "\n",
    "import urllib.request\n",
    "#from bs4 import BeautifulSoup\n",
    "import csv\n",
    "\n",
    "import urllib.request\n",
    "\n",
    "from selenium import webdriver\n",
    "import time\n",
    "\n",
    "#Gekodriver\n",
    "from selenium import webdriver\n",
    "#import geckodriver_autoinstaller\n",
    "\n",
    "#From article\n",
    "\n",
    "import urllib.request\n",
    "\n",
    "#import BeautifulSoup\n",
    "from selenium import webdriver\n",
    "import time\n",
    "import pandas as pd\n",
    "\n",
    "#Selenium \n",
    "from selenium import webdriver\n",
    "from selenium.webdriver.firefox.options import Options\n",
    "\n",
    "#json (duh)\n",
    "import json\n",
    "#import json library\n",
    "\n",
    "#bs\n",
    "import numpy as np\n",
    "import requests\n",
    "from bs4 import BeautifulSoup\n",
    "from time import sleep\n",
    "\n",
    "#for js\n",
    "\n",
    "#import nodejs\n",
    "\n",
    "#pypetter (for scraping)\n",
    "import asyncio\n",
    "from Pyppeteer import launch"
   ]
  },
  {
   "cell_type": "code",
   "execution_count": 20,
   "metadata": {},
   "outputs": [
    {
     "name": "stdout",
     "output_type": "stream",
     "text": [
      "https://evententries.com/#LiveScoresrK_AlBfa$DytaOblA15oqA==\n"
     ]
    }
   ],
   "source": [
    "# URL of page to be scraped\n",
    "urlreq = \"https://evententries.com/#LiveScoresrK_AlBfa$DytaOblA15oqA==\"\n",
    "print(urlreq)"
   ]
  },
  {
   "cell_type": "code",
   "execution_count": 21,
   "metadata": {},
   "outputs": [
    {
     "name": "stdout",
     "output_type": "stream",
     "text": [
      "<http.client.HTTPResponse object at 0x000001F0A83CB7B8>\n"
     ]
    }
   ],
   "source": [
    "\n",
    "# Retrieve page with the requests module\n",
    "response = urllib.request.urlopen(urlreq)\n",
    "print(response)"
   ]
  },
  {
   "cell_type": "code",
   "execution_count": 23,
   "metadata": {},
   "outputs": [],
   "source": [
    "#Load as json\n",
    "#jresponse = json.load(response)"
   ]
  },
  {
   "cell_type": "code",
   "execution_count": 11,
   "metadata": {},
   "outputs": [
    {
     "name": "stdout",
     "output_type": "stream",
     "text": [
      "https://evententries.com/#LiveScoresrK_AlBfa$DytaOblA15oqA==\n",
      "<bound method Tag.prettify of <!DOCTYPE html>\n",
      "\n",
      "<!-- Event Entries Version 1.3 -->\n",
      "<!-- The DOCTYPE declaration above will set the     -->\n",
      "<!-- browser's rendering engine into                -->\n",
      "<!-- \"Standards Mode\". Replacing this declaration   -->\n",
      "<!-- with a \"Quirks Mode\" doctype is not supported. -->\n",
      "<html>\n",
      "<head>\n",
      "<meta content=\"text/html; charset=utf-8\" http-equiv=\"content-type\"/>\n",
      "<meta content=\"width=device-width,initial-scale=1,maximum-scale=1,minimum-scale=1,user-scalable=no\" name=\"viewport\">\n",
      "<meta content=\"no-cache, no-store, must-revalidate\" http-equiv=\"Cache-Control\"/>\n",
      "<meta content=\"no-cache\" http-equiv=\"Pragma\"/>\n",
      "<meta content=\"0\" http-equiv=\"Expires\"/>\n",
      "<!-- -->\n",
      "<!-- Consider inlining CSS to reduce the number of requested files -->\n",
      "<!-- -->\n",
      "<link href=\"StyleSheetServlet\" rel=\"stylesheet\" type=\"text/css\"/>\n",
      "<!-- -->\n",
      "<!-- Any title is fine                         -->\n",
      "<!-- -->\n",
      "<title>Event Entries</title>\n",
      "<!-- -->\n",
      "<!-- This script loads your compiled module.   -->\n",
      "<!-- If you add any GWT meta tags, they must   -->\n",
      "<!-- be added before this line.                -->\n",
      "<!-- -->\n",
      "<script src=\"evententries/OpenLayers.js\"></script>\n",
      "<script src=\"https://www.openstreetmap.org/openlayers/OpenStreetMap.js\"></script>\n",
      "<script language=\"javascript\" src=\"evententries/evententries.nocache.js\" type=\"text/javascript\"></script>\n",
      "<script src=\"https://stats.slimcd.com/soft/json/slimcd.js\" type=\"text/javascript\"></script>\n",
      "<script async=\"\" src=\"https://www.googletagmanager.com/gtag/js?id=GA_TRACKING_ID\"></script>\n",
      "<script async=\"\" src=\"https://pagead2.googlesyndication.com/pagead/js/adsbygoogle.js\"></script>\n",
      "<script>\n",
      "\t  window.dataLayer = window.dataLayer || [];\n",
      "\t  function gtag(){dataLayer.push(arguments);}\n",
      "\t  gtag('js', new Date());\n",
      "\t\n",
      "\t  gtag('config', 'UA-125655789-1');\n",
      "\t</script>\n",
      "</meta></head>\n",
      "<!-- -->\n",
      "<!-- The body can have arbitrary html, or      -->\n",
      "<!-- you can leave the body empty if you want  -->\n",
      "<!-- to create a completely dynamic UI.        -->\n",
      "<!-- -->\n",
      "<body class=\"bodyclass\">\n",
      "<div id=\"fb-root\"></div>\n",
      "<script>(function(d, s, id) {\n",
      "\t  var js, fjs = d.getElementsByTagName(s)[0];\n",
      "\t  if (d.getElementById(id)) return;\n",
      "\t  js = d.createElement(s); js.id = id;\n",
      "\t  js.src = 'https://connect.facebook.net/en_US/sdk.js#xfbml=1&version=v2.11&appId=384235472011905';\n",
      "\t  fjs.parentNode.insertBefore(js, fjs);\n",
      "\t}(document, 'script', 'facebook-jssdk'));\n",
      "\t</script>\n",
      "<!-- OPTIONAL: include this if you want history support -->\n",
      "<iframe id=\"__gwt_historyFrame\" src=\"javascript:''\" style=\"position:absolute;width:0;height:0;border:0\" tabindex=\"-1\"></iframe>\n",
      "<!-- RECOMMENDED if your web app will not function without JavaScript enabled -->\n",
      "<noscript>\n",
      "<div style=\"width: 22em; position: absolute; left: 50%; margin-left: -11em; color: red; background-color: white; border: 1px solid red; padding: 4px; font-family: sans-serif\">\n",
      "        Your web browser must have JavaScript enabled\n",
      "        in order for this application to display correctly.\n",
      "      </div>\n",
      "</noscript>\n",
      "<div class=\"OuterWrapper\">\n",
      "<div id=\"AppContainer\" style=\"Height:100%; max-width:1366px; margin:0 auto; opacity: 1.0;\"></div>\n",
      "</div>\n",
      "</body>\n",
      "</html>\n",
      ">\n"
     ]
    }
   ],
   "source": [
    "# specify the url\n",
    "urlpage =  'https://evententries.com/#LiveScoresrK_AlBfa$DytaOblA15oqA==' \n",
    "print(urlpage)\n",
    "# query the website and return the html to the variable 'page'\n",
    "page = urllib.request.urlopen(urlpage)\n",
    "# parse the html using beautiful soup and store in variable 'soup'\n",
    "soup = BeautifulSoup(page, 'html.parser')\n",
    "print(soup.prettify)\n"
   ]
  },
  {
   "cell_type": "code",
   "execution_count": 27,
   "metadata": {},
   "outputs": [],
   "source": [
    "#Scrape Tables  - Lol, no tables\n",
    "\n",
    "##scrape the table\n",
    "#tables = pd.read_html(urlreq)\n"
   ]
  },
  {
   "cell_type": "code",
   "execution_count": 30,
   "metadata": {},
   "outputs": [],
   "source": [
    "# # find results within table - Only applies to tables\n",
    "# table = soup.find('table', attrs={'class': 'tableSorter'})\n",
    "# results = table.find_all('tr')\n",
    "# #print('Number of results', len(results))"
   ]
  },
  {
   "cell_type": "code",
   "execution_count": 31,
   "metadata": {},
   "outputs": [
    {
     "name": "stdout",
     "output_type": "stream",
     "text": [
      "https://evententries.com/#LiveScoresrK_AlBfa$DytaOblA15oqA==\n",
      "Number of results 0\n"
     ]
    }
   ],
   "source": [
    "# specify the url\n",
    "urlpage = 'https://evententries.com/#LiveScoresrK_AlBfa$DytaOblA15oqA==' \n",
    "print(urlpage)\n",
    "# query the website and return the html to the variable 'page'\n",
    "page = urllib.request.urlopen(urlpage)\n",
    "# parse the html using beautiful soup and store in variable 'soup'\n",
    "soup = BeautifulSoup(page, 'html.parser')\n",
    "# find product items\n",
    "# at time of publication, Nov 2018:\n",
    "# results = soup.find_all('div', attrs={'class': 'listing category_templates clearfix productListing'})\n",
    "# updated Nov 2019:\n",
    "results = soup.find_all('div', attrs={'class': 'co-product'})\n",
    "print('Number of results', len(results))"
   ]
  },
  {
   "cell_type": "code",
   "execution_count": 34,
   "metadata": {},
   "outputs": [],
   "source": [
    "#Selenium \n",
    "# options = Options()\n",
    "# options.headless = True\n",
    "# driver = webdriver.Firefox(options=options, executable_path = '../useventing')"
   ]
  },
  {
   "cell_type": "code",
   "execution_count": null,
   "metadata": {},
   "outputs": [],
   "source": [
    "#Need to read the js\n",
    "# use node.js and puppetteer\n"
   ]
  },
  {
   "cell_type": "code",
   "execution_count": null,
   "metadata": {},
   "outputs": [],
   "source": []
  }
 ],
 "metadata": {
  "kernelspec": {
   "display_name": "Python 3",
   "language": "python",
   "name": "python3"
  },
  "language_info": {
   "codemirror_mode": {
    "name": "ipython",
    "version": 3
   },
   "file_extension": ".py",
   "mimetype": "text/x-python",
   "name": "python",
   "nbconvert_exporter": "python",
   "pygments_lexer": "ipython3",
   "version": "3.6.10"
  }
 },
 "nbformat": 4,
 "nbformat_minor": 4
}
