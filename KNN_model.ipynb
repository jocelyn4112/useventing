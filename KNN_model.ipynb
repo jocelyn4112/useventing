{
 "cells": [
  {
   "cell_type": "code",
   "execution_count": 29,
   "metadata": {},
   "outputs": [],
   "source": [
    "from sklearn.neighbors import KNeighborsClassifier\n",
    "import matplotlib.pyplot as plt\n",
    "import numpy as np\n",
    "import pandas as pd\n",
    "from sklearn.preprocessing import LabelEncoder, StandardScaler, MinMaxScaler\n",
    "from tensorflow.keras.utils import to_categorical\n",
    "from sklearn.model_selection import train_test_split"
   ]
  },
  {
   "cell_type": "code",
   "execution_count": 18,
   "metadata": {},
   "outputs": [
    {
     "data": {
      "text/plain": [
       "RangeIndex(start=0, stop=55250, step=1)"
      ]
     },
     "execution_count": 18,
     "metadata": {},
     "output_type": "execute_result"
    }
   ],
   "source": [
    "df1=pd.read_csv(\"model_df\", na_values =['NaN'])\n",
    "df1.index"
   ]
  },
  {
   "cell_type": "code",
   "execution_count": 19,
   "metadata": {},
   "outputs": [
    {
     "data": {
      "text/plain": [
       "Int64Index([    1,     7,    10,    13,    16,    20,    27,    28,    29,\n",
       "               30,\n",
       "            ...\n",
       "            55236, 55237, 55239, 55240, 55241, 55242, 55243, 55244, 55245,\n",
       "            55247],\n",
       "           dtype='int64', length=20543)"
      ]
     },
     "execution_count": 19,
     "metadata": {},
     "output_type": "execute_result"
    }
   ],
   "source": [
    "df1=df1.dropna()\n",
    "df1.index"
   ]
  },
  {
   "cell_type": "code",
   "execution_count": 21,
   "metadata": {},
   "outputs": [
    {
     "data": {
      "text/plain": [
       "Index(['Difficulty', 'Event', 'Rider_x', 'Horse_x', 'Location', 'Senior',\n",
       "       'Junior', 'CT', 'Dress Score', 'Dress Place', 'precip-end',\n",
       "       'Precip_Prior_3_Day', 'Precip_Prior_5_Day'],\n",
       "      dtype='object')"
      ]
     },
     "execution_count": 21,
     "metadata": {},
     "output_type": "execute_result"
    }
   ],
   "source": [
    "X=df1.drop(['Fall', 'Unnamed: 0'], axis=1)\n",
    "# .values\n",
    "y=df1['Fall'].values\n",
    "# print(X.shape, y.shape)\n",
    "X.columns"
   ]
  },
  {
   "cell_type": "code",
   "execution_count": 22,
   "metadata": {},
   "outputs": [],
   "source": [
    "X=X.values"
   ]
  },
  {
   "cell_type": "code",
   "execution_count": 23,
   "metadata": {},
   "outputs": [],
   "source": [
    "label_encoder = LabelEncoder()\n",
    "label_encoder.fit(X[:, 1])\n",
    "X_encoded_Event=label_encoder.transform(X[:, 1])\n",
    "decoder=label_encoder\n",
    "\n",
    "label_encoder = LabelEncoder()\n",
    "label_encoder.fit(X[:, 2])\n",
    "X_encoded_Rider_x=label_encoder.transform(X[:, 2])\n",
    "\n",
    "label_encoder = LabelEncoder()\n",
    "label_encoder.fit(X[:, 3])\n",
    "X_encoded_Horse_x=label_encoder.transform(X[:, 3])\n",
    "\n",
    "label_encoder = LabelEncoder()\n",
    "label_encoder.fit(X[:, 4])\n",
    "X_encoded_Location=label_encoder.transform(X[:, 4])"
   ]
  },
  {
   "cell_type": "code",
   "execution_count": 24,
   "metadata": {},
   "outputs": [
    {
     "data": {
      "text/plain": [
       "(20543, 12)"
      ]
     },
     "execution_count": 24,
     "metadata": {},
     "output_type": "execute_result"
    }
   ],
   "source": [
    "X_encoded = np.c_[X[:, 0],\n",
    "                  X_encoded_Event,\n",
    "                  X_encoded_Rider_x,\n",
    "#                   X_encoded_Horse_x,\n",
    "                  X_encoded_Location,\n",
    "                  X[:, 5:]]\n",
    "X_encoded.shape"
   ]
  },
  {
   "cell_type": "code",
   "execution_count": 25,
   "metadata": {},
   "outputs": [
    {
     "data": {
      "text/plain": [
       "(20543, 5)"
      ]
     },
     "execution_count": 25,
     "metadata": {},
     "output_type": "execute_result"
    }
   ],
   "source": [
    "scaler=MinMaxScaler().fit(X[:, 8:])\n",
    "X_scaler=scaler.transform(X[:, 8:])\n",
    "X_scaler.shape"
   ]
  },
  {
   "cell_type": "code",
   "execution_count": 26,
   "metadata": {},
   "outputs": [
    {
     "data": {
      "text/plain": [
       "(20543, 132)"
      ]
     },
     "execution_count": 26,
     "metadata": {},
     "output_type": "execute_result"
    }
   ],
   "source": [
    "X_categorical_Difficulty=to_categorical(X[:, 0])\n",
    "X_categorical_Senior=to_categorical(X[:, 5])\n",
    "X_categorical_Junior=to_categorical(X[:, 6])\n",
    "X_categorical_CT=to_categorical(X[:, 7])\n",
    "X_categorical_Event=to_categorical(X_encoded_Event)\n",
    "X_categorical_Rider_x=to_categorical(X_encoded_Rider_x)\n",
    "X_categorical_Horse_x=to_categorical(X_encoded_Horse_x)\n",
    "X_categorical_Location=to_categorical(X_encoded_Location)\n",
    "X_categorical_Event.shape"
   ]
  },
  {
   "cell_type": "code",
   "execution_count": 27,
   "metadata": {},
   "outputs": [],
   "source": [
    "X_categorical = np.c_[X_categorical_Event,\n",
    "                      X_categorical_Difficulty,\n",
    "                      X_categorical_Senior,\n",
    "                      X_categorical_Junior,\n",
    "                      X_categorical_CT,\n",
    "                      X_categorical_Rider_x,\n",
    "#                       X_categorical_Horse_x,\n",
    "                      X_categorical_Location,\n",
    "                      X_scaler]"
   ]
  },
  {
   "cell_type": "code",
   "execution_count": 30,
   "metadata": {},
   "outputs": [],
   "source": [
    "X_train, X_test, y_train, y_test = train_test_split(\n",
    "    X_categorical, y, random_state=1)"
   ]
  },
  {
   "cell_type": "code",
   "execution_count": 31,
   "metadata": {},
   "outputs": [],
   "source": [
    "y_train_categorical = to_categorical(y_train)\n",
    "y_test_categorical = to_categorical(y_test)"
   ]
  },
  {
   "cell_type": "code",
   "execution_count": null,
   "metadata": {},
   "outputs": [
    {
     "name": "stdout",
     "output_type": "stream",
     "text": [
      "k: 1, Train/Test Score: 1.000/0.948\n",
      "k: 3, Train/Test Score: 0.974/0.971\n",
      "k: 5, Train/Test Score: 0.973/0.972\n"
     ]
    }
   ],
   "source": [
    "# Loop through different k values to see which has the highest accuracy\n",
    "# Note: We only use odd numbers because we don't want any ties\n",
    "train_scores = []\n",
    "test_scores = []\n",
    "for k in range(1, 20, 2):\n",
    "    knn = KNeighborsClassifier(n_neighbors=k)\n",
    "    knn.fit(X_train, y_train_categorical)\n",
    "    train_score = knn.score(X_train, y_train_categorical)\n",
    "    test_score = knn.score(X_test, y_test_categorical)\n",
    "    train_scores.append(train_score)\n",
    "    test_scores.append(test_score)\n",
    "    print(f\"k: {k}, Train/Test Score: {train_score:.3f}/{test_score:.3f}\")\n",
    "    \n",
    "    \n",
    "plt.plot(range(1, 20, 2), train_scores, marker='o')\n",
    "plt.plot(range(1, 20, 2), test_scores, marker=\"x\")\n",
    "plt.xlabel(\"k neighbors\")\n",
    "plt.ylabel(\"Testing accuracy Score\")\n",
    "plt.show()"
   ]
  },
  {
   "cell_type": "code",
   "execution_count": null,
   "metadata": {},
   "outputs": [],
   "source": [
    "knn = KNeighborsClassifier(n_neighbors=9)\n",
    "knn.fit(X_train, y_train_encoded)\n",
    "print('k=9 Test Acc: %.3f' % knn.score(X_test, y_test_categorical))"
   ]
  },
  {
   "cell_type": "code",
   "execution_count": null,
   "metadata": {},
   "outputs": [],
   "source": [
    "predicted_fall = knn.predict(y_test_categorical)"
   ]
  }
 ],
 "metadata": {
  "kernelspec": {
   "display_name": "Python [conda env:PythonData] *",
   "language": "python",
   "name": "conda-env-PythonData-py"
  },
  "language_info": {
   "codemirror_mode": {
    "name": "ipython",
    "version": 3
   },
   "file_extension": ".py",
   "mimetype": "text/x-python",
   "name": "python",
   "nbconvert_exporter": "python",
   "pygments_lexer": "ipython3",
   "version": "3.6.10"
  }
 },
 "nbformat": 4,
 "nbformat_minor": 4
}
